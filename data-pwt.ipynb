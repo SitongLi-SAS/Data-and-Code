{
 "cells": [
  {
   "metadata": {
    "ExecuteTime": {
     "end_time": "2025-07-26T00:49:42.717407Z",
     "start_time": "2025-07-26T00:49:36.109410Z"
    }
   },
   "cell_type": "code",
   "source": [
    "import pandas as pd\n",
    "\n",
    "wdi_path = 'WDI_selected_1980_2007.csv'\n",
    "wdi = pd.read_csv(wdi_path)\n",
    "\n",
    "year_cols = [c for c in wdi.columns if c.isdigit()]\n",
    "wdi_long = wdi.melt(\n",
    "    id_vars=['Country Name', 'Country Code', 'Series code', 'Series name'],\n",
    "    value_vars=year_cols,\n",
    "    var_name='year',\n",
    "    value_name='wdi_value'\n",
    ")\n",
    "wdi_panel = (\n",
    "    wdi_long\n",
    "    .pivot_table(\n",
    "        index=['Country Name','Country Code','year'],\n",
    "        columns='Series code',\n",
    "        values='wdi_value'\n",
    "    )\n",
    "    .reset_index()\n",
    ")\n",
    "wdi_panel['year'] = wdi_panel['year'].astype(int)\n",
    "\n",
    "pwt = pd.read_excel('pwt62_data.xlsx', sheet_name='Data')\n",
    "\n",
    "pwt_sub = pwt[(pwt['year'] >= 1980) & (pwt['year'] <= 2007)]\n",
    "pwt_ppp = (\n",
    "    pwt.loc[\n",
    "        (pwt['year'] >= 1980) & (pwt['year'] <= 2007),\n",
    "        ['country isocode', 'year', 'PPP']\n",
    "    ]\n",
    "    .rename(columns={\n",
    "        'country isocode': 'Country Code',\n",
    "        'PPP': 'PWT_PPP'\n",
    "    })\n",
    ")\n",
    "pwt_ppp['year'] = pwt_ppp['year'].astype(int)\n",
    "\n",
    "combined = pd.merge(\n",
    "    wdi_panel,\n",
    "    pwt_ppp,\n",
    "    on=['Country Code', 'year'],\n",
    "    how='left'\n",
    ")\n",
    "\n",
    "combined.to_csv('WDI_PWT_combined_1980_2007.csv', index=False)\n",
    "print(\"已生成：WDI_PWT_combined_1980_2007.csv\")\n"
   ],
   "id": "7d3b016d235706b1",
   "outputs": [
    {
     "name": "stdout",
     "output_type": "stream",
     "text": [
      "已生成：WDI_PWT_combined_1980_2007.csv\n"
     ]
    }
   ],
   "execution_count": 6
  }
 ],
 "metadata": {
  "kernelspec": {
   "display_name": "Python 3",
   "language": "python",
   "name": "python3"
  },
  "language_info": {
   "codemirror_mode": {
    "name": "ipython",
    "version": 2
   },
   "file_extension": ".py",
   "mimetype": "text/x-python",
   "name": "python",
   "nbconvert_exporter": "python",
   "pygments_lexer": "ipython2",
   "version": "2.7.6"
  }
 },
 "nbformat": 4,
 "nbformat_minor": 5
}
