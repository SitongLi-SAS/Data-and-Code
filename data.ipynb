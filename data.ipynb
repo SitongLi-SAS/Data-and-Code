{
 "cells": [
  {
   "cell_type": "code",
   "id": "initial_id",
   "metadata": {
    "collapsed": true,
    "ExecuteTime": {
     "end_time": "2025-07-25T11:38:38.994760Z",
     "start_time": "2025-07-25T11:35:38.478081Z"
    }
   },
   "source": [
    "import zipfile\n",
    "import pandas as pd\n",
    "\n",
    "\n",
    "zip_path = 'WDI_excel_2021_10_28.zip'\n",
    "with zipfile.ZipFile(zip_path) as z:\n",
    "    all_files = z.namelist()\n",
    "    excel_file = next(f for f in all_files if f.lower().endswith(('.xlsx', '.xls')))\n",
    "   \n",
    "    with z.open(excel_file) as f:\n",
    "        wdi_data = pd.read_excel(f, sheet_name='Data')\n",
    "\n",
    "indicators = {\n",
    "    'SP.POP.TOTL': 'population',\n",
    "    'SP.POP.65UP.TO.ZS': 'population_65_plus_pct',\n",
    "    'NY.GDP.PCAP.CD': 'gdp_per_capita',\n",
    "    'SH.XPD.CHEX.GD.ZS': 'health_expenditure_pct_gdp',\n",
    "    'SH.MED.PHYS.ZS': 'physicians_per_1000',\n",
    "    'SH.MED.BEDS.ZS': 'hospital_beds_per_1000',\n",
    "    'SI.POV.DDAY.ZS': 'extreme_poverty_pct',\n",
    "    'SP.DYN.LE00.IN': 'life_expectancy',\n",
    "    'SH.STA.DIAB.ZS': 'diabetes_prevalence',\n",
    "    'SH.STA.OB18.ZS': 'obesity_prevalence'\n",
    "}\n",
    "\n",
    "subset = wdi_data[wdi_data['Indicator Code'].isin(indicators.keys())]\n",
    "cols = ['Country Code', 'Country Name', 'Indicator Code', '2019']\n",
    "subset_2019 = subset[cols]\n",
    "\n",
    "df_wdi = subset_2019.pivot(index=['Country Code', 'Country Name'],\n",
    "                            columns='Indicator Code',\n",
    "                            values='2019').reset_index()\n",
    "\n",
    "df_wdi = df_wdi.rename(columns=indicators)\n",
    "\n",
    "output_file = 'R4_data.csv'\n",
    "df_wdi.to_csv(output_file, index=False)\n",
    "\n",
    "\n"
   ],
   "outputs": [
    {
     "name": "stdout",
     "output_type": "stream",
     "text": [
      "压缩包内文件列表： ['WDIEXCEL.xlsx']\n",
      "使用 Excel 文件： WDIEXCEL.xlsx\n"
     ]
    }
   ],
   "execution_count": 4
  }
 ],
 "metadata": {
  "kernelspec": {
   "display_name": "Python 3",
   "language": "python",
   "name": "python3"
  },
  "language_info": {
   "codemirror_mode": {
    "name": "ipython",
    "version": 2
   },
   "file_extension": ".py",
   "mimetype": "text/x-python",
   "name": "python",
   "nbconvert_exporter": "python",
   "pygments_lexer": "ipython2",
   "version": "2.7.6"
  }
 },
 "nbformat": 4,
 "nbformat_minor": 5
}
