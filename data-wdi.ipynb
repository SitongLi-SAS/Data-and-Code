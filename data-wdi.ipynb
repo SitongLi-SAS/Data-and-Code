{
 "cells": [
  {
   "cell_type": "code",
   "id": "initial_id",
   "metadata": {
    "collapsed": true,
    "ExecuteTime": {
     "end_time": "2025-07-26T00:50:24.703279Z",
     "start_time": "2025-07-26T00:50:20.689319Z"
    }
   },
   "source": [
    "import zipfile\n",
    "import pandas as pd\n",
    "\n",
    "zip_path = \"WDI_2009_05.zip\"\n",
    "txt_name = \"WDIdata_May09.txt\"  \n",
    "\n",
    "with zipfile.ZipFile(zip_path, \"r\") as z:\n",
    "    print(\"zip：\", z.namelist())\n",
    "    with z.open(txt_name) as f:\n",
    "        df = pd.read_csv(\n",
    "            f,\n",
    "            sep=\",\",                   \n",
    "            dtype={\"Series code\": str},\n",
    "            na_values=[\"\", \"NA\", \"..\"],\n",
    "            low_memory=False\n",
    "        )\n",
    "\n",
    "print(df.columns.tolist())\n",
    "print(df.head())\n",
    "\n",
    "codes = [\"NY.GDP.PCAP.PP.KD\", \"PA.NUS.PPP\", \"PA.NUS.FCRF\",'PX.REX.REER',\n",
    "         'NE.EXP.GNFS.ZS','NE.IMP.GNFS.ZS','SI.POV.GINI']\n",
    "df_sub = df[df[\"Series code\"].isin(codes)].copy()\n",
    "\n",
    "year_cols = [col for col in df_sub.columns if col.isdigit()]\n",
    "\n",
    "\n",
    "df_wide = (\n",
    "    df_sub\n",
    "    .pivot_table(\n",
    "        index=[\"Country Name\", \"Country Code\", \"Series code\", \"Series name\"],\n",
    "        values=year_cols,\n",
    "        aggfunc=\"first\"\n",
    "    )\n",
    "    .reset_index()\n",
    ")\n",
    "\n",
    "df_final = df_wide[df_wide[\"Country Code\"].isin([\"USA\", \"CHN\"])]\n",
    "\n",
    "output_file = \"WDI_selected_1980_2007.csv\"\n",
    "df_final.to_csv(output_file, index=False)\n",
    "print(f\"Done. 输出文件：{output_file}\")\n"
   ],
   "outputs": [
    {
     "name": "stdout",
     "output_type": "stream",
     "text": [
      "zip： ['WDInotes_May09.txt', 'WDIonline_May09.mdb', 'WDIonline_readme.txt', 'WDIseries_Apr09.xls', 'WBonline_readme.txt', 'WDIcountry_Apr09.xls', 'WDIdata_May09.txt']\n",
      "['Series code', 'Series name', 'Country Code', 'Country Name', '1960', '1961', '1962', '1963', '1964', '1965', '1966', '1967', '1968', '1969', '1970', '1971', '1972', '1973', '1974', '1975', '1976', '1977', '1978', '1979', '1980', '1981', '1982', '1983', '1984', '1985', '1986', '1987', '1988', '1989', '1990', '1991', '1992', '1993', '1994', '1995', '1996', '1997', '1998', '1999', '2000', '2001', '2002', '2003', '2004', '2005', '2006', '2007', '2008']\n",
      "         Series code                                        Series name  \\\n",
      "0  NY.ADJ.SVNX.GN.ZS  Adjusted net savings, excluding particulate em...   \n",
      "1  NY.ADJ.SVNX.GN.ZS  Adjusted net savings, excluding particulate em...   \n",
      "2  NY.ADJ.SVNX.GN.ZS  Adjusted net savings, excluding particulate em...   \n",
      "3  NY.ADJ.SVNX.GN.ZS  Adjusted net savings, excluding particulate em...   \n",
      "4  NY.ADJ.SVNX.GN.ZS  Adjusted net savings, excluding particulate em...   \n",
      "\n",
      "  Country Code    Country Name  1960  1961  1962  1963  1964  1965  ...  \\\n",
      "0          AFG     Afghanistan   NaN   NaN   NaN   NaN   NaN   NaN  ...   \n",
      "1          ALB         Albania   NaN   NaN   NaN   NaN   NaN   NaN  ...   \n",
      "2          DZA         Algeria   NaN   NaN   NaN   NaN   NaN   NaN  ...   \n",
      "3          ASM  American Samoa   NaN   NaN   NaN   NaN   NaN   NaN  ...   \n",
      "4          ADO         Andorra   NaN   NaN   NaN   NaN   NaN   NaN  ...   \n",
      "\n",
      "        1999       2000       2001       2002       2003       2004  \\\n",
      "0        NaN        NaN        NaN        NaN        NaN        NaN   \n",
      "1   8.739406  12.583599  17.591074   6.083707   6.335371   9.127850   \n",
      "2  11.086645  15.425807  16.727775  17.877662  17.248841  16.174513   \n",
      "3        NaN        NaN        NaN        NaN        NaN        NaN   \n",
      "4        NaN        NaN        NaN        NaN        NaN        NaN   \n",
      "\n",
      "        2005       2006       2007  2008  \n",
      "0        NaN        NaN        NaN   NaN  \n",
      "1   6.364999   7.804883  10.899346   NaN  \n",
      "2  14.021452  17.726382  19.686609   NaN  \n",
      "3        NaN        NaN        NaN   NaN  \n",
      "4        NaN        NaN        NaN   NaN  \n",
      "\n",
      "[5 rows x 53 columns]\n",
      "Done. 输出文件：WDI_selected_1980_2007.csv\n"
     ]
    }
   ],
   "execution_count": 6
  }
 ],
 "metadata": {
  "kernelspec": {
   "display_name": "Python 3",
   "language": "python",
   "name": "python3"
  },
  "language_info": {
   "codemirror_mode": {
    "name": "ipython",
    "version": 2
   },
   "file_extension": ".py",
   "mimetype": "text/x-python",
   "name": "python",
   "nbconvert_exporter": "python",
   "pygments_lexer": "ipython2",
   "version": "2.7.6"
  }
 },
 "nbformat": 4,
 "nbformat_minor": 5
}
