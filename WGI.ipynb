{
 "cells": [
  {
   "cell_type": "code",
   "id": "initial_id",
   "metadata": {
    "collapsed": true,
    "ExecuteTime": {
     "end_time": "2025-06-22T17:48:36.124028Z",
     "start_time": "2025-06-22T17:48:17.318566Z"
    }
   },
   "source": [
    "import requests\n",
    "import zipfile\n",
    "import io\n",
    "import openpyxl\n",
    "import pandas as pd\n",
    "\n",
    "# 1. 下载并解压 WGI Excel 压缩包\n",
    "ZIP_URL = \"https://databank.worldbank.org/data/download/WGI_EXCEL.zip\"\n",
    "zip_bytes = requests.get(ZIP_URL, timeout=120).content\n",
    "\n",
    "# 2. 我们要提取的六项指标代码\n",
    "vars6 = ['GE.EST', 'CC.EST', 'RL.EST', 'VA.EST', 'PV.EST', 'RQ.EST']\n",
    "\n",
    "records = []\n",
    "with zipfile.ZipFile(io.BytesIO(zip_bytes)) as z:\n",
    "    # 遍历所有 Excel 文件\n",
    "    for fname in z.namelist():\n",
    "        if not fname.lower().endswith(('.xlsx', '.xls')):\n",
    "            continue\n",
    "        with z.open(fname) as f:\n",
    "            wb = openpyxl.load_workbook(io.BytesIO(f.read()), data_only=True)\n",
    "            if 'Data' not in wb.sheetnames:\n",
    "                continue\n",
    "            ws = wb['Data']\n",
    "            # 实际数据从第 15 行开始\n",
    "            rows = list(ws.iter_rows(values_only=True))[14:]\n",
    "            for r in rows:\n",
    "                iso = r[1]         # 列 B: ISO3\n",
    "                ind = r[3]         # 列 D: Indicator Code\n",
    "                if ind not in vars6:\n",
    "                    continue\n",
    "                # 提取 1996-2016 年对应的列\n",
    "                for yr in range(1996, 2017):\n",
    "                    idx = 4 + (yr - 1996)\n",
    "                    val = r[idx] if idx < len(r) else None\n",
    "                    records.append((iso, yr, ind, val))\n",
    "\n",
    "# 3. 构建 DataFrame 并透视为宽表\n",
    "wgi_panel = (\n",
    "    pd.DataFrame(records, columns=['iso3', 'year', 'indicator', 'value'])\n",
    "      .pivot_table(index=['iso3', 'year'], columns='indicator', values='value')\n",
    "      .reset_index()\n",
    ")\n",
    "\n",
    "# 4. 重命名列\n",
    "wgi_panel = wgi_panel.rename(columns={\n",
    "    'GE.EST': 'gov_effect',\n",
    "    'CC.EST': 'corruption',\n",
    "    'RL.EST': 'rule_of_law',\n",
    "    'VA.EST': 'voice',\n",
    "    'PV.EST': 'stability',\n",
    "    'RQ.EST': 'reg_quality'\n",
    "})\n",
    "wgi_panel.columns.name = None\n",
    "\n",
    "# 5. 保存完整的 1996-2016 年 WGI 数据\n",
    "output_path = \"WGI_1996_2016.csv\"\n",
    "wgi_panel.to_csv(output_path, index=False)\n",
    "print(f\"WGI_1996_2016.csv saved — rows: {len(wgi_panel)}\")\n"
   ],
   "outputs": [
    {
     "name": "stdout",
     "output_type": "stream",
     "text": [
      "WGI_1996_2016.csv saved — rows: 4394\n"
     ]
    }
   ],
   "execution_count": 6
  },
  {
   "metadata": {},
   "cell_type": "code",
   "source": "",
   "id": "cf9300aad6b8307",
   "outputs": [],
   "execution_count": null
  }
 ],
 "metadata": {
  "kernelspec": {
   "display_name": "Python 3",
   "language": "python",
   "name": "python3"
  },
  "language_info": {
   "codemirror_mode": {
    "name": "ipython",
    "version": 2
   },
   "file_extension": ".py",
   "mimetype": "text/x-python",
   "name": "python",
   "nbconvert_exporter": "python",
   "pygments_lexer": "ipython2",
   "version": "2.7.6"
  }
 },
 "nbformat": 4,
 "nbformat_minor": 5
}
